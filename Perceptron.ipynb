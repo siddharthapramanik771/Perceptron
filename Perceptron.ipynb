{
  "nbformat": 4,
  "nbformat_minor": 0,
  "metadata": {
    "colab": {
      "provenance": [],
      "authorship_tag": "ABX9TyOaPxIEA99pNxjdO3Kt06s9",
      "include_colab_link": true
    },
    "kernelspec": {
      "name": "python3",
      "display_name": "Python 3"
    },
    "language_info": {
      "name": "python"
    }
  },
  "cells": [
    {
      "cell_type": "markdown",
      "metadata": {
        "id": "view-in-github",
        "colab_type": "text"
      },
      "source": [
        "<a href=\"https://colab.research.google.com/github/siddharthapramanik771/Perceptron/blob/main/Perceptron.ipynb\" target=\"_parent\"><img src=\"https://colab.research.google.com/assets/colab-badge.svg\" alt=\"Open In Colab\"/></a>"
      ]
    },
    {
      "cell_type": "code",
      "execution_count": 42,
      "metadata": {
        "colab": {
          "base_uri": "https://localhost:8080/"
        },
        "id": "fYkp_dwoCXxj",
        "outputId": "c1d4dd1f-0832-4025-b1a2-97caec752369"
      },
      "outputs": [
        {
          "output_type": "stream",
          "name": "stdout",
          "text": [
            "Assume learning rate is 1\n",
            "\n",
            "for iteration no. 1\n",
            "for data point no. 1\n",
            "w= [1. 1.]\n",
            "wTx =  2.0  and the y is  1\n",
            "\n",
            "for data point no. 2\n",
            "w= [1. 1.]\n",
            "wTx =  -2.0  and the y is  -1\n",
            "\n",
            "for data point no. 3\n",
            "w= [1. 1.]\n",
            "wTx =  0.5  and the y is  -1\n",
            "miscalassified.So, updating weights\n",
            "\n",
            "for data point no. 4\n",
            "w= [1.  0.5]\n",
            "wTx =  0.35  and the y is  -1\n",
            "miscalassified.So, updating weights\n",
            "\n",
            "for data point no. 5\n",
            "w= [0.9 0. ]\n",
            "wTx =  0.18000000000000002  and the y is  1\n",
            "\n",
            "for data point no. 6\n",
            "w= [0.9 0. ]\n",
            "wTx =  0.81  and the y is  1\n",
            "\n",
            "\n",
            "\n",
            "for iteration no. 2\n",
            "for data point no. 1\n",
            "w= [0.9 0. ]\n",
            "wTx =  0.9  and the y is  1\n",
            "\n",
            "for data point no. 2\n",
            "w= [0.9 0. ]\n",
            "wTx =  -0.9  and the y is  -1\n",
            "\n",
            "for data point no. 3\n",
            "w= [0.9 0. ]\n",
            "wTx =  0.0  and the y is  -1\n",
            "miscalassified.So, updating weights\n",
            "\n",
            "for data point no. 4\n",
            "w= [ 0.9 -0.5]\n",
            "wTx =  -0.15999999999999998  and the y is  -1\n",
            "\n",
            "for data point no. 5\n",
            "w= [ 0.9 -0.5]\n",
            "wTx =  0.08000000000000002  and the y is  1\n",
            "\n",
            "for data point no. 6\n",
            "w= [ 0.9 -0.5]\n",
            "wTx =  0.56  and the y is  1\n",
            "\n",
            "\n",
            "\n",
            "for iteration no. 3\n",
            "for data point no. 1\n",
            "w= [ 0.9 -0.5]\n",
            "wTx =  0.4  and the y is  1\n",
            "\n",
            "for data point no. 2\n",
            "w= [ 0.9 -0.5]\n",
            "wTx =  -0.4  and the y is  -1\n",
            "\n",
            "for data point no. 3\n",
            "w= [ 0.9 -0.5]\n",
            "wTx =  -0.25  and the y is  -1\n",
            "\n",
            "for data point no. 4\n",
            "w= [ 0.9 -0.5]\n",
            "wTx =  -0.15999999999999998  and the y is  -1\n",
            "\n",
            "for data point no. 5\n",
            "w= [ 0.9 -0.5]\n",
            "wTx =  0.08000000000000002  and the y is  1\n",
            "\n",
            "for data point no. 6\n",
            "w= [ 0.9 -0.5]\n",
            "wTx =  0.56  and the y is  1\n",
            "\n",
            "Number of updates: 3\n"
          ]
        }
      ],
      "source": [
        "import numpy as np\n",
        "\n",
        "# training data\n",
        "data = [{'x1':1,'x2':1,'Class':1},\n",
        "        {'x1':-1,'x2':-1,'Class':-1},\n",
        "        {'x1':0,'x2':0.5,'Class':-1},\n",
        "        {'x1':0.1,'x2':0.5,'Class':-1},\n",
        "        {'x1':0.2,'x2':0.2,'Class':1},\n",
        "        {'x1':0.9,'x2':0.5,'Class':1}]\n",
        "\n",
        "# initial weight vector\n",
        "w = np.array([1, 1],dtype='float64')\n",
        "\n",
        "# PLA algorithm\n",
        "num_updates = 0\n",
        "iter = 1\n",
        "print('Assume learning rate is 1')\n",
        "print()\n",
        "while True:\n",
        "    print('for iteration no.',iter)\n",
        "    iter+=1\n",
        "    num_errors = 0\n",
        "    for i in range(len(data)):\n",
        "        x = np.array([data[i]['x1'], data[i]['x2']])\n",
        "        y = data[i]['Class']\n",
        "        print('for data point no.' ,i+1 )\n",
        "        print('w=',w)\n",
        "        result = np.dot(w, x)\n",
        "        print('wTx = ' ,result,' and the y is ',y)\n",
        "        if result * y <= 0:  # misclassified\n",
        "            print('miscalassified.So, updating weights')\n",
        "            w +=  y * x\n",
        "            num_updates += 1\n",
        "            num_errors += 1\n",
        "        print()    \n",
        "    if num_errors == 0:  # all points correctly classified\n",
        "        break\n",
        "    print()\n",
        "    print()\n",
        "# print number of updates\n",
        "print(\"Number of updates:\", num_updates)\n"
      ]
    },
    {
      "cell_type": "code",
      "source": [
        "import matplotlib.pyplot as plt\n",
        "import numpy as np\n",
        "\n",
        "# Create the vectors X and Y\n",
        "x1 = np.array(range(-5,10))\n",
        "\"\"\"\n",
        "as 0.9*x1-0.5*x2=0\n",
        "=> x2 = 0.9*x1/0.5\n",
        "\"\"\"\n",
        "x2 = 0.9*x1/0.5\n",
        "\n",
        "# Create the plot\n",
        "plt.plot(x1,x2)\n",
        "plt.xlabel('x1')\n",
        "plt.ylabel('x2')\n",
        "for i in data:\n",
        "  plt.scatter(i['x1'],i['x2'],color = 'green' if i['Class'] == 1 else 'red')\n",
        "# Show the plot\n",
        "plt.show()"
      ],
      "metadata": {
        "colab": {
          "base_uri": "https://localhost:8080/",
          "height": 449
        },
        "id": "OgHeDWhKF656",
        "outputId": "d0777ac1-4e71-4307-9cac-4a5b25426c65"
      },
      "execution_count": 29,
      "outputs": [
        {
          "output_type": "display_data",
          "data": {
            "text/plain": [
              "<Figure size 640x480 with 1 Axes>"
            ],
            "image/png": "[encoded data removed]"
          },
          "metadata": {}
        }
      ]
    }
  ]
}